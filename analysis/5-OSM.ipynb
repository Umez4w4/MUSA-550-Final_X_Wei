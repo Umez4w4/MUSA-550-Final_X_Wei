{
 "cells": [
  {
   "cell_type": "code",
   "execution_count": 2,
   "id": "dd07e099-3860-4a0c-96c9-9273a696bd2e",
   "metadata": {},
   "outputs": [],
   "source": [
    "import pandas as pd\n",
    "import geopandas as gpd\n",
    "import numpy as np\n",
    "import hvplot.pandas\n",
    "from matplotlib import pyplot as plt\n",
    "\n",
    "pd.options.display.max_columns = 999\n",
    "\n",
    "np.seterr(invalid=\"ignore\");"
   ]
  },
  {
   "cell_type": "code",
   "execution_count": null,
   "id": "3e21dc46-1668-4ec9-b648-ab689589993b",
   "metadata": {},
   "outputs": [],
   "source": []
  }
 ],
 "metadata": {
  "kernelspec": {
   "display_name": "Python 3 (ipykernel)",
   "language": "python",
   "name": "python3"
  },
  "language_info": {
   "codemirror_mode": {
    "name": "ipython",
    "version": 3
   },
   "file_extension": ".py",
   "mimetype": "text/x-python",
   "name": "python",
   "nbconvert_exporter": "python",
   "pygments_lexer": "ipython3",
   "version": "3.10.12"
  }
 },
 "nbformat": 4,
 "nbformat_minor": 5
}
