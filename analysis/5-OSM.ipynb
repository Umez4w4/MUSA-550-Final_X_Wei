{
 "cells": [
  {
   "cell_type": "code",
   "execution_count": null,
   "id": "dd07e099-3860-4a0c-96c9-9273a696bd2e",
   "metadata": {},
   "outputs": [],
   "source": [
    "import pandas as pd\n",
    "import geopandas as gpd\n",
    "import numpy as np\n",
    "import hvplot.pandas\n",
    "from matplotlib import pyplot as plt\n",
    "\n",
    "# See lots of columns\n",
    "pd.options.display.max_columns = 999\n",
    "\n",
    "# Hide warnings due to issue in shapely package \n",
    "# See: https://github.com/shapely/shapely/issues/1345\n",
    "np.seterr(invalid=\"ignore\");"
   ]
  }
 ],
 "metadata": {
  "kernelspec": {
   "display_name": "Python 3 (ipykernel)",
   "language": "python",
   "name": "python3"
  },
  "language_info": {
   "codemirror_mode": {
    "name": "ipython",
    "version": 3
   },
   "file_extension": ".py",
   "mimetype": "text/x-python",
   "name": "python",
   "nbconvert_exporter": "python",
   "pygments_lexer": "ipython3",
   "version": "3.10.12"
  }
 },
 "nbformat": 4,
 "nbformat_minor": 5
}
