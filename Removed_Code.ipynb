{
 "cells": [
  {
   "cell_type": "code",
   "execution_count": null,
   "id": "5c86e871-77aa-4275-96e7-00333922c2e0",
   "metadata": {},
   "outputs": [],
   "source": [
    "\n",
    "\n",
    "#| fig-cap: \"FEMA Flooding area in New York City\"\n",
    "\n",
    "    import pygris\n",
    "    NYC_county_code = [\"005\",\"047\",\"061\",\"081\",\"085\"]\n",
    "    NY_state_code = \"36\"\n",
    "    NYC_block_groups = pygris.block_groups(\n",
    "    state=NY_state_code, county=NYC_county_code, year=2022\n",
    ")\n",
    "    import geopandas as gpd\n",
    "    import pandas as pd\n",
    "    from matplotlib import pyplot as plt\n",
    "    FEMA = gpd.read_file('./analysis/Shapefiles/FEMA.shp')\n",
    "    fig, ax = plt.subplots(figsize=(10, 10))\n",
    "    NYC_block_groups.plot(ax=ax, facecolor=\"none\", edgecolor=\"gray\", linewidth=0.3)\n",
    "    FEMA.plot(ax=ax, facecolor=\"blue\", edgecolor=\"black\", linewidth=0.5)\n",
    "    \n",
    "\n"
   ]
  },
  {
   "cell_type": "code",
   "execution_count": null,
   "id": "9502abc7-2b2a-4305-81f8-11b2d0152c04",
   "metadata": {},
   "outputs": [],
   "source": [
    "#| fig-cap: \"MS4s\"\n",
    "\n",
    "    MS4 = gpd.read_file('./Shapefiles/MS4_Area.shp')\n",
    "    fig, ax = plt.subplots(figsize=(10, 10))\n",
    "    NYC_block_groups.plot(ax=ax, facecolor=\"none\", edgecolor=\"gray\", linewidth=0.3)\n",
    "    MS4.to_crs(epsg=4326).plot(ax=ax, facecolor=\"gray\", edgecolor=\"black\", linewidth=0.5)"
   ]
  }
 ],
 "metadata": {
  "kernelspec": {
   "display_name": "Python 3 (ipykernel)",
   "language": "python",
   "name": "python3"
  },
  "language_info": {
   "codemirror_mode": {
    "name": "ipython",
    "version": 3
   },
   "file_extension": ".py",
   "mimetype": "text/x-python",
   "name": "python",
   "nbconvert_exporter": "python",
   "pygments_lexer": "ipython3",
   "version": "3.10.12"
  }
 },
 "nbformat": 4,
 "nbformat_minor": 5
}
